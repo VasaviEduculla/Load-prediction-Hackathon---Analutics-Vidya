{
 "cells": [
  {
   "cell_type": "code",
   "execution_count": 1,
   "metadata": {},
   "outputs": [
    {
     "name": "stderr",
     "output_type": "stream",
     "text": [
      "C:\\Users\\Vasu\\Anaconda3\\lib\\site-packages\\statsmodels\\tools\\_testing.py:19: FutureWarning: pandas.util.testing is deprecated. Use the functions in the public API at pandas.testing instead.\n",
      "  import pandas.util.testing as tm\n"
     ]
    }
   ],
   "source": [
    "import numpy as np\n",
    "import pandas as pd\n",
    "import matplotlib.pyplot as plt\n",
    "import seaborn as sns\n",
    "import warnings\n",
    "warnings.filterwarnings(\"ignore\",category=FutureWarning)"
   ]
  },
  {
   "cell_type": "code",
   "execution_count": 2,
   "metadata": {},
   "outputs": [],
   "source": [
    "from sklearn.model_selection import cross_val_score, train_test_split\n",
    "from sklearn.ensemble import AdaBoostClassifier\n",
    "from mlxtend.classifier import StackingClassifier\n",
    "from sklearn.linear_model import LogisticRegression\n",
    "from sklearn.naive_bayes import GaussianNB\n",
    "from sklearn.neighbors import KNeighborsClassifier\n",
    "from sklearn.tree import DecisionTreeClassifier\n",
    "from sklearn.ensemble import RandomForestClassifier,BaggingClassifier,AdaBoostClassifier,GradientBoostingClassifier,VotingClassifier"
   ]
  },
  {
   "cell_type": "code",
   "execution_count": 3,
   "metadata": {},
   "outputs": [],
   "source": [
    "from sklearn.model_selection import KFold,cross_val_score\n",
    "from sklearn.metrics import classification_report,roc_auc_score,roc_curve,accuracy_score,confusion_matrix,f1_score"
   ]
  },
  {
   "cell_type": "code",
   "execution_count": 4,
   "metadata": {},
   "outputs": [],
   "source": [
    "from scipy.stats import shapiro,ttest_ind,mannwhitneyu"
   ]
  },
  {
   "cell_type": "markdown",
   "metadata": {},
   "source": [
    "## 1 "
   ]
  },
  {
   "cell_type": "code",
   "execution_count": 5,
   "metadata": {},
   "outputs": [
    {
     "data": {
      "text/html": [
       "<div>\n",
       "<style scoped>\n",
       "    .dataframe tbody tr th:only-of-type {\n",
       "        vertical-align: middle;\n",
       "    }\n",
       "\n",
       "    .dataframe tbody tr th {\n",
       "        vertical-align: top;\n",
       "    }\n",
       "\n",
       "    .dataframe thead th {\n",
       "        text-align: right;\n",
       "    }\n",
       "</style>\n",
       "<table border=\"1\" class=\"dataframe\">\n",
       "  <thead>\n",
       "    <tr style=\"text-align: right;\">\n",
       "      <th></th>\n",
       "      <th>Loan_ID</th>\n",
       "      <th>Gender</th>\n",
       "      <th>Married</th>\n",
       "      <th>Dependents</th>\n",
       "      <th>Education</th>\n",
       "      <th>Self_Employed</th>\n",
       "      <th>ApplicantIncome</th>\n",
       "      <th>CoapplicantIncome</th>\n",
       "      <th>LoanAmount</th>\n",
       "      <th>Loan_Amount_Term</th>\n",
       "      <th>Credit_History</th>\n",
       "      <th>Property_Area</th>\n",
       "      <th>Loan_Status</th>\n",
       "    </tr>\n",
       "  </thead>\n",
       "  <tbody>\n",
       "    <tr>\n",
       "      <th>0</th>\n",
       "      <td>LP001002</td>\n",
       "      <td>Male</td>\n",
       "      <td>No</td>\n",
       "      <td>0</td>\n",
       "      <td>Graduate</td>\n",
       "      <td>No</td>\n",
       "      <td>5849</td>\n",
       "      <td>0.0</td>\n",
       "      <td>NaN</td>\n",
       "      <td>360.0</td>\n",
       "      <td>1.0</td>\n",
       "      <td>Urban</td>\n",
       "      <td>Y</td>\n",
       "    </tr>\n",
       "    <tr>\n",
       "      <th>1</th>\n",
       "      <td>LP001003</td>\n",
       "      <td>Male</td>\n",
       "      <td>Yes</td>\n",
       "      <td>1</td>\n",
       "      <td>Graduate</td>\n",
       "      <td>No</td>\n",
       "      <td>4583</td>\n",
       "      <td>1508.0</td>\n",
       "      <td>128.0</td>\n",
       "      <td>360.0</td>\n",
       "      <td>1.0</td>\n",
       "      <td>Rural</td>\n",
       "      <td>N</td>\n",
       "    </tr>\n",
       "    <tr>\n",
       "      <th>2</th>\n",
       "      <td>LP001005</td>\n",
       "      <td>Male</td>\n",
       "      <td>Yes</td>\n",
       "      <td>0</td>\n",
       "      <td>Graduate</td>\n",
       "      <td>Yes</td>\n",
       "      <td>3000</td>\n",
       "      <td>0.0</td>\n",
       "      <td>66.0</td>\n",
       "      <td>360.0</td>\n",
       "      <td>1.0</td>\n",
       "      <td>Urban</td>\n",
       "      <td>Y</td>\n",
       "    </tr>\n",
       "    <tr>\n",
       "      <th>3</th>\n",
       "      <td>LP001006</td>\n",
       "      <td>Male</td>\n",
       "      <td>Yes</td>\n",
       "      <td>0</td>\n",
       "      <td>Not Graduate</td>\n",
       "      <td>No</td>\n",
       "      <td>2583</td>\n",
       "      <td>2358.0</td>\n",
       "      <td>120.0</td>\n",
       "      <td>360.0</td>\n",
       "      <td>1.0</td>\n",
       "      <td>Urban</td>\n",
       "      <td>Y</td>\n",
       "    </tr>\n",
       "    <tr>\n",
       "      <th>4</th>\n",
       "      <td>LP001008</td>\n",
       "      <td>Male</td>\n",
       "      <td>No</td>\n",
       "      <td>0</td>\n",
       "      <td>Graduate</td>\n",
       "      <td>No</td>\n",
       "      <td>6000</td>\n",
       "      <td>0.0</td>\n",
       "      <td>141.0</td>\n",
       "      <td>360.0</td>\n",
       "      <td>1.0</td>\n",
       "      <td>Urban</td>\n",
       "      <td>Y</td>\n",
       "    </tr>\n",
       "  </tbody>\n",
       "</table>\n",
       "</div>"
      ],
      "text/plain": [
       "    Loan_ID Gender Married Dependents     Education Self_Employed  \\\n",
       "0  LP001002   Male      No          0      Graduate            No   \n",
       "1  LP001003   Male     Yes          1      Graduate            No   \n",
       "2  LP001005   Male     Yes          0      Graduate           Yes   \n",
       "3  LP001006   Male     Yes          0  Not Graduate            No   \n",
       "4  LP001008   Male      No          0      Graduate            No   \n",
       "\n",
       "   ApplicantIncome  CoapplicantIncome  LoanAmount  Loan_Amount_Term  \\\n",
       "0             5849                0.0         NaN             360.0   \n",
       "1             4583             1508.0       128.0             360.0   \n",
       "2             3000                0.0        66.0             360.0   \n",
       "3             2583             2358.0       120.0             360.0   \n",
       "4             6000                0.0       141.0             360.0   \n",
       "\n",
       "   Credit_History Property_Area Loan_Status  \n",
       "0             1.0         Urban           Y  \n",
       "1             1.0         Rural           N  \n",
       "2             1.0         Urban           Y  \n",
       "3             1.0         Urban           Y  \n",
       "4             1.0         Urban           Y  "
      ]
     },
     "execution_count": 5,
     "metadata": {},
     "output_type": "execute_result"
    }
   ],
   "source": [
    "loan=pd.read_csv(r\"C:\\Users\\Vasu\\Downloads\\great lakes assignments\\projects\\loan prediction\\train_ctrUa4K.csv\")\n",
    "loan.head()"
   ]
  },
  {
   "cell_type": "code",
   "execution_count": 6,
   "metadata": {},
   "outputs": [
    {
     "data": {
      "text/plain": [
       "(614, 13)"
      ]
     },
     "execution_count": 6,
     "metadata": {},
     "output_type": "execute_result"
    }
   ],
   "source": [
    "loan.shape"
   ]
  },
  {
   "cell_type": "code",
   "execution_count": 7,
   "metadata": {},
   "outputs": [
    {
     "name": "stdout",
     "output_type": "stream",
     "text": [
      "<class 'pandas.core.frame.DataFrame'>\n",
      "RangeIndex: 614 entries, 0 to 613\n",
      "Data columns (total 13 columns):\n",
      " #   Column             Non-Null Count  Dtype  \n",
      "---  ------             --------------  -----  \n",
      " 0   Loan_ID            614 non-null    object \n",
      " 1   Gender             601 non-null    object \n",
      " 2   Married            611 non-null    object \n",
      " 3   Dependents         599 non-null    object \n",
      " 4   Education          614 non-null    object \n",
      " 5   Self_Employed      582 non-null    object \n",
      " 6   ApplicantIncome    614 non-null    int64  \n",
      " 7   CoapplicantIncome  614 non-null    float64\n",
      " 8   LoanAmount         592 non-null    float64\n",
      " 9   Loan_Amount_Term   600 non-null    float64\n",
      " 10  Credit_History     564 non-null    float64\n",
      " 11  Property_Area      614 non-null    object \n",
      " 12  Loan_Status        614 non-null    object \n",
      "dtypes: float64(4), int64(1), object(8)\n",
      "memory usage: 62.5+ KB\n"
     ]
    }
   ],
   "source": [
    "loan.info()"
   ]
  },
  {
   "cell_type": "code",
   "execution_count": 8,
   "metadata": {},
   "outputs": [
    {
     "data": {
      "text/html": [
       "<div>\n",
       "<style scoped>\n",
       "    .dataframe tbody tr th:only-of-type {\n",
       "        vertical-align: middle;\n",
       "    }\n",
       "\n",
       "    .dataframe tbody tr th {\n",
       "        vertical-align: top;\n",
       "    }\n",
       "\n",
       "    .dataframe thead th {\n",
       "        text-align: right;\n",
       "    }\n",
       "</style>\n",
       "<table border=\"1\" class=\"dataframe\">\n",
       "  <thead>\n",
       "    <tr style=\"text-align: right;\">\n",
       "      <th></th>\n",
       "      <th>ApplicantIncome</th>\n",
       "      <th>CoapplicantIncome</th>\n",
       "      <th>LoanAmount</th>\n",
       "      <th>Loan_Amount_Term</th>\n",
       "      <th>Credit_History</th>\n",
       "    </tr>\n",
       "  </thead>\n",
       "  <tbody>\n",
       "    <tr>\n",
       "      <th>count</th>\n",
       "      <td>614.000000</td>\n",
       "      <td>614.000000</td>\n",
       "      <td>592.000000</td>\n",
       "      <td>600.00000</td>\n",
       "      <td>564.000000</td>\n",
       "    </tr>\n",
       "    <tr>\n",
       "      <th>mean</th>\n",
       "      <td>5403.459283</td>\n",
       "      <td>1621.245798</td>\n",
       "      <td>146.412162</td>\n",
       "      <td>342.00000</td>\n",
       "      <td>0.842199</td>\n",
       "    </tr>\n",
       "    <tr>\n",
       "      <th>std</th>\n",
       "      <td>6109.041673</td>\n",
       "      <td>2926.248369</td>\n",
       "      <td>85.587325</td>\n",
       "      <td>65.12041</td>\n",
       "      <td>0.364878</td>\n",
       "    </tr>\n",
       "    <tr>\n",
       "      <th>min</th>\n",
       "      <td>150.000000</td>\n",
       "      <td>0.000000</td>\n",
       "      <td>9.000000</td>\n",
       "      <td>12.00000</td>\n",
       "      <td>0.000000</td>\n",
       "    </tr>\n",
       "    <tr>\n",
       "      <th>25%</th>\n",
       "      <td>2877.500000</td>\n",
       "      <td>0.000000</td>\n",
       "      <td>100.000000</td>\n",
       "      <td>360.00000</td>\n",
       "      <td>1.000000</td>\n",
       "    </tr>\n",
       "    <tr>\n",
       "      <th>50%</th>\n",
       "      <td>3812.500000</td>\n",
       "      <td>1188.500000</td>\n",
       "      <td>128.000000</td>\n",
       "      <td>360.00000</td>\n",
       "      <td>1.000000</td>\n",
       "    </tr>\n",
       "    <tr>\n",
       "      <th>75%</th>\n",
       "      <td>5795.000000</td>\n",
       "      <td>2297.250000</td>\n",
       "      <td>168.000000</td>\n",
       "      <td>360.00000</td>\n",
       "      <td>1.000000</td>\n",
       "    </tr>\n",
       "    <tr>\n",
       "      <th>max</th>\n",
       "      <td>81000.000000</td>\n",
       "      <td>41667.000000</td>\n",
       "      <td>700.000000</td>\n",
       "      <td>480.00000</td>\n",
       "      <td>1.000000</td>\n",
       "    </tr>\n",
       "  </tbody>\n",
       "</table>\n",
       "</div>"
      ],
      "text/plain": [
       "       ApplicantIncome  CoapplicantIncome  LoanAmount  Loan_Amount_Term  \\\n",
       "count       614.000000         614.000000  592.000000         600.00000   \n",
       "mean       5403.459283        1621.245798  146.412162         342.00000   \n",
       "std        6109.041673        2926.248369   85.587325          65.12041   \n",
       "min         150.000000           0.000000    9.000000          12.00000   \n",
       "25%        2877.500000           0.000000  100.000000         360.00000   \n",
       "50%        3812.500000        1188.500000  128.000000         360.00000   \n",
       "75%        5795.000000        2297.250000  168.000000         360.00000   \n",
       "max       81000.000000       41667.000000  700.000000         480.00000   \n",
       "\n",
       "       Credit_History  \n",
       "count      564.000000  \n",
       "mean         0.842199  \n",
       "std          0.364878  \n",
       "min          0.000000  \n",
       "25%          1.000000  \n",
       "50%          1.000000  \n",
       "75%          1.000000  \n",
       "max          1.000000  "
      ]
     },
     "execution_count": 8,
     "metadata": {},
     "output_type": "execute_result"
    }
   ],
   "source": [
    "loan.describe()"
   ]
  },
  {
   "cell_type": "code",
   "execution_count": 9,
   "metadata": {},
   "outputs": [],
   "source": [
    "loan.drop('Loan_ID',axis=1,inplace=True)"
   ]
  },
  {
   "cell_type": "code",
   "execution_count": 10,
   "metadata": {},
   "outputs": [
    {
     "name": "stdout",
     "output_type": "stream",
     "text": [
      "Index(['Gender', 'Married', 'Dependents', 'Education', 'Self_Employed',\n",
      "       'Property_Area', 'Loan_Status'],\n",
      "      dtype='object')\n"
     ]
    }
   ],
   "source": [
    "categorical_variables=loan.select_dtypes(include='object').columns\n",
    "print(categorical_variables)"
   ]
  },
  {
   "cell_type": "code",
   "execution_count": 11,
   "metadata": {},
   "outputs": [
    {
     "data": {
      "image/png": "[encoded data removed]",
      "text/plain": [
       "<Figure size 720x360 with 6 Axes>"
      ]
     },
     "metadata": {
      "needs_background": "light"
     },
     "output_type": "display_data"
    }
   ],
   "source": [
    "fig,axes=plt.subplots(3,2,figsize=(10,5))\n",
    "for idx in range(len(categorical_variables)-1):\n",
    "    row,col=idx//2,idx%2\n",
    "    sns.countplot(data=loan,x=categorical_variables[idx],hue='Loan_Status',ax=axes[row,col])  "
   ]
  },
  {
   "cell_type": "code",
   "execution_count": 12,
   "metadata": {},
   "outputs": [],
   "source": [
    "loan['Dependents']=loan['Dependents'].replace('3+','3')\n",
    "loan['Gender']=loan['Gender'].replace({'Male':0,'Female':1})\n",
    "loan['Married']=loan['Married'].replace({'Yes':1,'No':0})\n",
    "loan['Loan_Status']=loan['Loan_Status'].replace({'Y':1,'N':0})\n",
    "loan['Education']=loan['Education'].replace({'Graduate':1,'Not Graduate':0})\n",
    "loan['Self_Employed']=loan['Self_Employed'].replace({'Yes':1,'No':0})"
   ]
  },
  {
   "cell_type": "code",
   "execution_count": 13,
   "metadata": {},
   "outputs": [],
   "source": [
    "from sklearn.preprocessing import LabelEncoder\n",
    "le=LabelEncoder()"
   ]
  },
  {
   "cell_type": "code",
   "execution_count": 14,
   "metadata": {},
   "outputs": [],
   "source": [
    "loan['Property_Area']=le.fit_transform(loan['Property_Area'])"
   ]
  },
  {
   "cell_type": "code",
   "execution_count": 15,
   "metadata": {},
   "outputs": [],
   "source": [
    "import random"
   ]
  },
  {
   "cell_type": "code",
   "execution_count": 16,
   "metadata": {},
   "outputs": [],
   "source": [
    "values=[0,1]\n",
    "loan['Gender'].fillna(random.choice(values),inplace=True)\n",
    "loan['Married'].fillna(random.choice(values),inplace=True)\n",
    "loan['Self_Employed'].fillna(random.choice(values),inplace=True)\n"
   ]
  },
  {
   "cell_type": "code",
   "execution_count": 17,
   "metadata": {},
   "outputs": [],
   "source": [
    "values=[0,1,2,3]\n",
    "loan['Dependents'].fillna(random.choice(values),inplace=True)"
   ]
  },
  {
   "cell_type": "code",
   "execution_count": 18,
   "metadata": {},
   "outputs": [],
   "source": [
    "from sklearn.impute import KNNImputer\n",
    "knn_imp=KNNImputer(n_neighbors=5)"
   ]
  },
  {
   "cell_type": "code",
   "execution_count": 19,
   "metadata": {},
   "outputs": [],
   "source": [
    "df_filled=knn_imp.fit_transform(loan)\n",
    "df_filled=pd.DataFrame(df_filled,columns=loan.columns)"
   ]
  },
  {
   "cell_type": "code",
   "execution_count": 20,
   "metadata": {},
   "outputs": [
    {
     "data": {
      "text/plain": [
       "Gender               0\n",
       "Married              0\n",
       "Dependents           0\n",
       "Education            0\n",
       "Self_Employed        0\n",
       "ApplicantIncome      0\n",
       "CoapplicantIncome    0\n",
       "LoanAmount           0\n",
       "Loan_Amount_Term     0\n",
       "Credit_History       0\n",
       "Property_Area        0\n",
       "Loan_Status          0\n",
       "dtype: int64"
      ]
     },
     "execution_count": 20,
     "metadata": {},
     "output_type": "execute_result"
    }
   ],
   "source": [
    "df_filled.isnull().sum()"
   ]
  },
  {
   "cell_type": "code",
   "execution_count": 21,
   "metadata": {},
   "outputs": [
    {
     "data": {
      "text/plain": [
       "1.0    422\n",
       "0.0    192\n",
       "Name: Loan_Status, dtype: int64"
      ]
     },
     "execution_count": 21,
     "metadata": {},
     "output_type": "execute_result"
    }
   ],
   "source": [
    "df_filled[\"Loan_Status\"].value_counts()"
   ]
  },
  {
   "cell_type": "markdown",
   "metadata": {},
   "source": [
    "## 2"
   ]
  },
  {
   "cell_type": "code",
   "execution_count": 22,
   "metadata": {},
   "outputs": [
    {
     "data": {
      "image/png": "[encoded data removed]",
      "text/plain": [
       "<Figure size 1080x1080 with 11 Axes>"
      ]
     },
     "metadata": {
      "needs_background": "light"
     },
     "output_type": "display_data"
    }
   ],
   "source": [
    "columns=loan.select_dtypes(exclude='object').columns\n",
    "f=plt.figure(figsize=(15,15))\n",
    "count=1\n",
    "for i in columns:\n",
    "    ax=f.add_subplot(4,3,count)\n",
    "    sns.distplot(df_filled[i],ax=ax)\n",
    "    count=count+1\n",
    "plt.show()"
   ]
  },
  {
   "cell_type": "markdown",
   "metadata": {},
   "source": [
    "## 3"
   ]
  },
  {
   "cell_type": "code",
   "execution_count": 23,
   "metadata": {},
   "outputs": [
    {
     "data": {
      "text/html": [
       "<div>\n",
       "<style scoped>\n",
       "    .dataframe tbody tr th:only-of-type {\n",
       "        vertical-align: middle;\n",
       "    }\n",
       "\n",
       "    .dataframe tbody tr th {\n",
       "        vertical-align: top;\n",
       "    }\n",
       "\n",
       "    .dataframe thead th {\n",
       "        text-align: right;\n",
       "    }\n",
       "</style>\n",
       "<table border=\"1\" class=\"dataframe\">\n",
       "  <thead>\n",
       "    <tr style=\"text-align: right;\">\n",
       "      <th></th>\n",
       "      <th>Gender</th>\n",
       "      <th>Married</th>\n",
       "      <th>Dependents</th>\n",
       "      <th>Education</th>\n",
       "      <th>Self_Employed</th>\n",
       "      <th>ApplicantIncome</th>\n",
       "      <th>CoapplicantIncome</th>\n",
       "      <th>LoanAmount</th>\n",
       "      <th>Loan_Amount_Term</th>\n",
       "      <th>Credit_History</th>\n",
       "      <th>Property_Area</th>\n",
       "      <th>Loan_Status</th>\n",
       "    </tr>\n",
       "  </thead>\n",
       "  <tbody>\n",
       "    <tr>\n",
       "      <th>Gender</th>\n",
       "      <td>1.000000</td>\n",
       "      <td>-0.336818</td>\n",
       "      <td>-0.148500</td>\n",
       "      <td>0.061497</td>\n",
       "      <td>0.039440</td>\n",
       "      <td>-0.013933</td>\n",
       "      <td>-0.082316</td>\n",
       "      <td>-0.064314</td>\n",
       "      <td>0.066126</td>\n",
       "      <td>-0.028166</td>\n",
       "      <td>0.017054</td>\n",
       "      <td>-0.025407</td>\n",
       "    </tr>\n",
       "    <tr>\n",
       "      <th>Married</th>\n",
       "      <td>-0.336818</td>\n",
       "      <td>1.000000</td>\n",
       "      <td>0.334216</td>\n",
       "      <td>-0.012304</td>\n",
       "      <td>-0.021584</td>\n",
       "      <td>0.051708</td>\n",
       "      <td>0.075948</td>\n",
       "      <td>0.148906</td>\n",
       "      <td>-0.099131</td>\n",
       "      <td>0.005345</td>\n",
       "      <td>0.004257</td>\n",
       "      <td>0.091478</td>\n",
       "    </tr>\n",
       "    <tr>\n",
       "      <th>Dependents</th>\n",
       "      <td>-0.148500</td>\n",
       "      <td>0.334216</td>\n",
       "      <td>1.000000</td>\n",
       "      <td>-0.055752</td>\n",
       "      <td>0.042142</td>\n",
       "      <td>0.118202</td>\n",
       "      <td>0.030430</td>\n",
       "      <td>0.148164</td>\n",
       "      <td>-0.097937</td>\n",
       "      <td>-0.051356</td>\n",
       "      <td>-0.000244</td>\n",
       "      <td>0.010118</td>\n",
       "    </tr>\n",
       "    <tr>\n",
       "      <th>Education</th>\n",
       "      <td>0.061497</td>\n",
       "      <td>-0.012304</td>\n",
       "      <td>-0.055752</td>\n",
       "      <td>1.000000</td>\n",
       "      <td>0.019059</td>\n",
       "      <td>0.140760</td>\n",
       "      <td>0.062290</td>\n",
       "      <td>0.176451</td>\n",
       "      <td>0.075167</td>\n",
       "      <td>0.085432</td>\n",
       "      <td>0.065243</td>\n",
       "      <td>0.085884</td>\n",
       "    </tr>\n",
       "    <tr>\n",
       "      <th>Self_Employed</th>\n",
       "      <td>0.039440</td>\n",
       "      <td>-0.021584</td>\n",
       "      <td>0.042142</td>\n",
       "      <td>0.019059</td>\n",
       "      <td>1.000000</td>\n",
       "      <td>0.121356</td>\n",
       "      <td>0.028834</td>\n",
       "      <td>0.107693</td>\n",
       "      <td>-0.039239</td>\n",
       "      <td>0.035796</td>\n",
       "      <td>-0.022732</td>\n",
       "      <td>0.005857</td>\n",
       "    </tr>\n",
       "    <tr>\n",
       "      <th>ApplicantIncome</th>\n",
       "      <td>-0.013933</td>\n",
       "      <td>0.051708</td>\n",
       "      <td>0.118202</td>\n",
       "      <td>0.140760</td>\n",
       "      <td>0.121356</td>\n",
       "      <td>1.000000</td>\n",
       "      <td>-0.116605</td>\n",
       "      <td>0.579095</td>\n",
       "      <td>-0.044370</td>\n",
       "      <td>-0.010383</td>\n",
       "      <td>-0.009500</td>\n",
       "      <td>-0.004710</td>\n",
       "    </tr>\n",
       "    <tr>\n",
       "      <th>CoapplicantIncome</th>\n",
       "      <td>-0.082316</td>\n",
       "      <td>0.075948</td>\n",
       "      <td>0.030430</td>\n",
       "      <td>0.062290</td>\n",
       "      <td>0.028834</td>\n",
       "      <td>-0.116605</td>\n",
       "      <td>1.000000</td>\n",
       "      <td>0.183089</td>\n",
       "      <td>-0.060167</td>\n",
       "      <td>-0.013241</td>\n",
       "      <td>0.010522</td>\n",
       "      <td>-0.059187</td>\n",
       "    </tr>\n",
       "    <tr>\n",
       "      <th>LoanAmount</th>\n",
       "      <td>-0.064314</td>\n",
       "      <td>0.148906</td>\n",
       "      <td>0.148164</td>\n",
       "      <td>0.176451</td>\n",
       "      <td>0.107693</td>\n",
       "      <td>0.579095</td>\n",
       "      <td>0.183089</td>\n",
       "      <td>1.000000</td>\n",
       "      <td>0.039784</td>\n",
       "      <td>0.002419</td>\n",
       "      <td>-0.057297</td>\n",
       "      <td>-0.038352</td>\n",
       "    </tr>\n",
       "    <tr>\n",
       "      <th>Loan_Amount_Term</th>\n",
       "      <td>0.066126</td>\n",
       "      <td>-0.099131</td>\n",
       "      <td>-0.097937</td>\n",
       "      <td>0.075167</td>\n",
       "      <td>-0.039239</td>\n",
       "      <td>-0.044370</td>\n",
       "      <td>-0.060167</td>\n",
       "      <td>0.039784</td>\n",
       "      <td>1.000000</td>\n",
       "      <td>-0.001074</td>\n",
       "      <td>-0.078633</td>\n",
       "      <td>-0.021266</td>\n",
       "    </tr>\n",
       "    <tr>\n",
       "      <th>Credit_History</th>\n",
       "      <td>-0.028166</td>\n",
       "      <td>0.005345</td>\n",
       "      <td>-0.051356</td>\n",
       "      <td>0.085432</td>\n",
       "      <td>0.035796</td>\n",
       "      <td>-0.010383</td>\n",
       "      <td>-0.013241</td>\n",
       "      <td>0.002419</td>\n",
       "      <td>-0.001074</td>\n",
       "      <td>1.000000</td>\n",
       "      <td>-0.000978</td>\n",
       "      <td>0.541337</td>\n",
       "    </tr>\n",
       "    <tr>\n",
       "      <th>Property_Area</th>\n",
       "      <td>0.017054</td>\n",
       "      <td>0.004257</td>\n",
       "      <td>-0.000244</td>\n",
       "      <td>0.065243</td>\n",
       "      <td>-0.022732</td>\n",
       "      <td>-0.009500</td>\n",
       "      <td>0.010522</td>\n",
       "      <td>-0.057297</td>\n",
       "      <td>-0.078633</td>\n",
       "      <td>-0.000978</td>\n",
       "      <td>1.000000</td>\n",
       "      <td>0.032112</td>\n",
       "    </tr>\n",
       "    <tr>\n",
       "      <th>Loan_Status</th>\n",
       "      <td>-0.025407</td>\n",
       "      <td>0.091478</td>\n",
       "      <td>0.010118</td>\n",
       "      <td>0.085884</td>\n",
       "      <td>0.005857</td>\n",
       "      <td>-0.004710</td>\n",
       "      <td>-0.059187</td>\n",
       "      <td>-0.038352</td>\n",
       "      <td>-0.021266</td>\n",
       "      <td>0.541337</td>\n",
       "      <td>0.032112</td>\n",
       "      <td>1.000000</td>\n",
       "    </tr>\n",
       "  </tbody>\n",
       "</table>\n",
       "</div>"
      ],
      "text/plain": [
       "                     Gender   Married  Dependents  Education  Self_Employed  \\\n",
       "Gender             1.000000 -0.336818   -0.148500   0.061497       0.039440   \n",
       "Married           -0.336818  1.000000    0.334216  -0.012304      -0.021584   \n",
       "Dependents        -0.148500  0.334216    1.000000  -0.055752       0.042142   \n",
       "Education          0.061497 -0.012304   -0.055752   1.000000       0.019059   \n",
       "Self_Employed      0.039440 -0.021584    0.042142   0.019059       1.000000   \n",
       "ApplicantIncome   -0.013933  0.051708    0.118202   0.140760       0.121356   \n",
       "CoapplicantIncome -0.082316  0.075948    0.030430   0.062290       0.028834   \n",
       "LoanAmount        -0.064314  0.148906    0.148164   0.176451       0.107693   \n",
       "Loan_Amount_Term   0.066126 -0.099131   -0.097937   0.075167      -0.039239   \n",
       "Credit_History    -0.028166  0.005345   -0.051356   0.085432       0.035796   \n",
       "Property_Area      0.017054  0.004257   -0.000244   0.065243      -0.022732   \n",
       "Loan_Status       -0.025407  0.091478    0.010118   0.085884       0.005857   \n",
       "\n",
       "                   ApplicantIncome  CoapplicantIncome  LoanAmount  \\\n",
       "Gender                   -0.013933          -0.082316   -0.064314   \n",
       "Married                   0.051708           0.075948    0.148906   \n",
       "Dependents                0.118202           0.030430    0.148164   \n",
       "Education                 0.140760           0.062290    0.176451   \n",
       "Self_Employed             0.121356           0.028834    0.107693   \n",
       "ApplicantIncome           1.000000          -0.116605    0.579095   \n",
       "CoapplicantIncome        -0.116605           1.000000    0.183089   \n",
       "LoanAmount                0.579095           0.183089    1.000000   \n",
       "Loan_Amount_Term         -0.044370          -0.060167    0.039784   \n",
       "Credit_History           -0.010383          -0.013241    0.002419   \n",
       "Property_Area            -0.009500           0.010522   -0.057297   \n",
       "Loan_Status              -0.004710          -0.059187   -0.038352   \n",
       "\n",
       "                   Loan_Amount_Term  Credit_History  Property_Area  \\\n",
       "Gender                     0.066126       -0.028166       0.017054   \n",
       "Married                   -0.099131        0.005345       0.004257   \n",
       "Dependents                -0.097937       -0.051356      -0.000244   \n",
       "Education                  0.075167        0.085432       0.065243   \n",
       "Self_Employed             -0.039239        0.035796      -0.022732   \n",
       "ApplicantIncome           -0.044370       -0.010383      -0.009500   \n",
       "CoapplicantIncome         -0.060167       -0.013241       0.010522   \n",
       "LoanAmount                 0.039784        0.002419      -0.057297   \n",
       "Loan_Amount_Term           1.000000       -0.001074      -0.078633   \n",
       "Credit_History            -0.001074        1.000000      -0.000978   \n",
       "Property_Area             -0.078633       -0.000978       1.000000   \n",
       "Loan_Status               -0.021266        0.541337       0.032112   \n",
       "\n",
       "                   Loan_Status  \n",
       "Gender               -0.025407  \n",
       "Married               0.091478  \n",
       "Dependents            0.010118  \n",
       "Education             0.085884  \n",
       "Self_Employed         0.005857  \n",
       "ApplicantIncome      -0.004710  \n",
       "CoapplicantIncome    -0.059187  \n",
       "LoanAmount           -0.038352  \n",
       "Loan_Amount_Term     -0.021266  \n",
       "Credit_History        0.541337  \n",
       "Property_Area         0.032112  \n",
       "Loan_Status           1.000000  "
      ]
     },
     "execution_count": 23,
     "metadata": {},
     "output_type": "execute_result"
    }
   ],
   "source": [
    "df_filled.corr()"
   ]
  },
  {
   "cell_type": "code",
   "execution_count": 24,
   "metadata": {},
   "outputs": [],
   "source": [
    "df_0=df_filled[df_filled[\"Loan_Status\"]==0]\n",
    "df_1=df_filled[df_filled[\"Loan_Status\"]==1]"
   ]
  },
  {
   "cell_type": "code",
   "execution_count": 25,
   "metadata": {},
   "outputs": [],
   "source": [
    "X=df_filled.drop(\"Loan_Status\",axis=1)\n",
    "y=df_filled.Loan_Status"
   ]
  },
  {
   "cell_type": "code",
   "execution_count": 26,
   "metadata": {},
   "outputs": [],
   "source": [
    "from scipy.stats import shapiro,ttest_ind,mannwhitneyu"
   ]
  },
  {
   "cell_type": "code",
   "execution_count": 27,
   "metadata": {},
   "outputs": [
    {
     "name": "stdout",
     "output_type": "stream",
     "text": [
      "Features which are linearly separable\n",
      "['Married', 'Education', 'Credit_History']\n"
     ]
    }
   ],
   "source": [
    "cols=[]\n",
    "def dependency_test(full_df,df_0,df_1):\n",
    "    for col in full_df.columns:\n",
    "        out=shapiro(full_df[col])\n",
    "        if out[1] < 0.05:       #column does not have a normal distribution, thus non parametric test\n",
    "            independent=mannwhitneyu(df_0[col],df_1[col])\n",
    "            if independent[1] < 0.05:\n",
    "                cols.append(col)\n",
    "        else:\n",
    "            independent=ttest_ind(df_0[col],df_1[col])\n",
    "            if independent[1] < 0.05:\n",
    "                cols.append(col)\n",
    "    return cols\n",
    "\n",
    "cols=dependency_test(X,df_0,df_1)\n",
    "print(\"Features which are linearly separable\")\n",
    "print(cols)        "
   ]
  },
  {
   "cell_type": "code",
   "execution_count": 28,
   "metadata": {},
   "outputs": [],
   "source": [
    "X=df_filled[cols]"
   ]
  },
  {
   "cell_type": "code",
   "execution_count": 29,
   "metadata": {},
   "outputs": [],
   "source": [
    "from sklearn.preprocessing import StandardScaler\n",
    "Xs=StandardScaler().fit_transform(X)"
   ]
  },
  {
   "cell_type": "code",
   "execution_count": 30,
   "metadata": {},
   "outputs": [],
   "source": [
    "Xs=pd.DataFrame(Xs,columns=X.columns)"
   ]
  },
  {
   "cell_type": "markdown",
   "metadata": {},
   "source": [
    "## 4"
   ]
  },
  {
   "cell_type": "code",
   "execution_count": 31,
   "metadata": {},
   "outputs": [
    {
     "name": "stdout",
     "output_type": "stream",
     "text": [
      "No loan 31.27 % of the dataset\n",
      "Loan given 68.73 % of the dataset\n",
      "--------------------------------------------------\n",
      "No loan 31.24 % of the dataset in train\n",
      "Loan given 68.76 % of the dataset in train\n",
      "--------------------------------------------------\n",
      "No loan 31.35 % of the dataset in test\n",
      "Loan given 68.65 % of the dataset in test\n"
     ]
    }
   ],
   "source": [
    "from sklearn.model_selection import StratifiedShuffleSplit\n",
    "\n",
    "print('No loan', round(y.value_counts()[0]/len(y) * 100,2), '% of the dataset')\n",
    "print('Loan given', round(y.value_counts()[1]/len(y) * 100,2), '% of the dataset')\n",
    "print('-'*50)\n",
    "\n",
    "sss = StratifiedShuffleSplit(n_splits=1, random_state=0, test_size=0.3)\n",
    "\n",
    "for train_index, test_index in sss.split(Xs, y):\n",
    "    X_train, X_test = Xs.iloc[train_index], Xs.iloc[test_index]\n",
    "    y_train, y_test = y.iloc[train_index], y.iloc[test_index]\n",
    "    \n",
    "print('No loan', round(y_train.value_counts()[0]/len(y_train) * 100,2), '% of the dataset in train')\n",
    "print('Loan given', round(y_train.value_counts()[1]/len(y_train) * 100,2), '% of the dataset in train')\n",
    "\n",
    "print('-'*50)\n",
    "\n",
    "print('No loan', round(y_test.value_counts()[0]/len(y_test) * 100,2), '% of the dataset in test')\n",
    "print('Loan given', round(y_test.value_counts()[1]/len(y_test) * 100,2), '% of the dataset in test')"
   ]
  },
  {
   "cell_type": "code",
   "execution_count": 32,
   "metadata": {},
   "outputs": [],
   "source": [
    "#X_train, X_test, y_train, y_test = train_test_split(Xs, y, test_size=0.30, random_state=0)"
   ]
  },
  {
   "cell_type": "code",
   "execution_count": 33,
   "metadata": {},
   "outputs": [
    {
     "data": {
      "text/plain": [
       "Ttest_indResult(statistic=array([ 0.55561868,  0.30077182, -0.16588899]), pvalue=array([0.57859094, 0.76364855, 0.86827652]))"
      ]
     },
     "execution_count": 33,
     "metadata": {},
     "output_type": "execute_result"
    }
   ],
   "source": [
    "ttest_ind(Xs,X_train)"
   ]
  },
  {
   "cell_type": "code",
   "execution_count": 34,
   "metadata": {},
   "outputs": [
    {
     "data": {
      "text/plain": [
       "Ttest_indResult(statistic=array([-0.97735546, -0.52972128,  0.28645234]), pvalue=array([0.32868976, 0.59645271, 0.77460613]))"
      ]
     },
     "execution_count": 34,
     "metadata": {},
     "output_type": "execute_result"
    }
   ],
   "source": [
    "ttest_ind(Xs,X_test)"
   ]
  },
  {
   "cell_type": "code",
   "execution_count": null,
   "metadata": {},
   "outputs": [],
   "source": []
  },
  {
   "cell_type": "code",
   "execution_count": null,
   "metadata": {},
   "outputs": [],
   "source": []
  },
  {
   "cell_type": "markdown",
   "metadata": {},
   "source": [
    "## Model Selection"
   ]
  },
  {
   "cell_type": "code",
   "execution_count": 35,
   "metadata": {},
   "outputs": [],
   "source": [
    "log_reg=LogisticRegression()\n",
    "nb=GaussianNB()\n",
    "knn=KNeighborsClassifier(n_neighbors=10)\n",
    "dt=DecisionTreeClassifier(max_depth=5,random_state=0)\n",
    "rf=RandomForestClassifier(random_state=0)\n",
    "bagging=BaggingClassifier(random_state=0)\n",
    "adaboost=AdaBoostClassifier(random_state=0)\n",
    "gradboost=GradientBoostingClassifier(random_state=0)\n",
    "#stacking=VotingClassifier(estimators=[(1),(2),(3)],voting='soft')#soft - weighted , hard - unweighted "
   ]
  },
  {
   "cell_type": "code",
   "execution_count": 36,
   "metadata": {},
   "outputs": [],
   "source": [
    "models=[]\n",
    "models.append((\"Logistic Regression\",log_reg))\n",
    "models.append((\"Naive Bayes\",nb))\n",
    "models.append((\"KNN\",knn))\n",
    "models.append((\"Decision Tree\",dt))\n",
    "models.append((\"Random Forest\",rf))\n",
    "models.append((\"Bagging\",bagging))\n",
    "models.append((\"Ada Boost\",adaboost))\n",
    "models.append((\"Gradient Boost\",gradboost))"
   ]
  },
  {
   "cell_type": "code",
   "execution_count": 37,
   "metadata": {},
   "outputs": [
    {
     "name": "stdout",
     "output_type": "stream",
     "text": [
      "classifier\t\tBias Error\tVariance Error\n",
      "-------------------------------------------------------\n",
      "Logistic Regression    : 0.249            0.0005305\n",
      "-------------------------------------------------------\n",
      "Naive Bayes            : 0.255            0.0007108\n",
      "-------------------------------------------------------\n",
      "KNN                    : 0.284            0.0082271\n",
      "-------------------------------------------------------\n",
      "Decision Tree          : 0.271            0.0007537\n",
      "-------------------------------------------------------\n",
      "Random Forest          : 0.268            0.0004742\n",
      "-------------------------------------------------------\n",
      "Bagging                : 0.265            0.0007068\n",
      "-------------------------------------------------------\n",
      "Ada Boost              : 0.259            0.0006981\n",
      "-------------------------------------------------------\n",
      "Gradient Boost         : 0.273            0.0009002\n",
      "-------------------------------------------------------\n"
     ]
    }
   ],
   "source": [
    "# evaluate each model in turn\n",
    "results = []\n",
    "names = []\n",
    "print(f'classifier\\t\\tBias Error\\tVariance Error')\n",
    "print('-'*55)\n",
    "for name, model in models:\n",
    "    kfold = KFold(shuffle=True,n_splits=3,random_state=0)\n",
    "    cv_results =cross_val_score(model, Xs, y,cv=kfold, scoring='roc_auc')\n",
    "    results.append(cv_results)\n",
    "    names.append(name)\n",
    "    print(f'{name:23}: {round(np.mean(1-cv_results),3):5}  {round(np.var(cv_results,ddof=1),7):19}')\n",
    "    print('-'*55)"
   ]
  },
  {
   "cell_type": "markdown",
   "metadata": {},
   "source": [
    "### Log reg"
   ]
  },
  {
   "cell_type": "code",
   "execution_count": 38,
   "metadata": {},
   "outputs": [
    {
     "data": {
      "text/html": [
       "<table class=\"simpletable\">\n",
       "<caption>Generalized Linear Model Regression Results</caption>\n",
       "<tr>\n",
       "  <th>Dep. Variable:</th>      <td>Loan_Status</td>   <th>  No. Observations:  </th>  <td>   429</td> \n",
       "</tr>\n",
       "<tr>\n",
       "  <th>Model:</th>                  <td>GLM</td>       <th>  Df Residuals:      </th>  <td>   425</td> \n",
       "</tr>\n",
       "<tr>\n",
       "  <th>Model Family:</th>        <td>Binomial</td>     <th>  Df Model:          </th>  <td>     3</td> \n",
       "</tr>\n",
       "<tr>\n",
       "  <th>Link Function:</th>         <td>logit</td>      <th>  Scale:             </th> <td>  1.0000</td>\n",
       "</tr>\n",
       "<tr>\n",
       "  <th>Method:</th>                <td>IRLS</td>       <th>  Log-Likelihood:    </th> <td> -207.00</td>\n",
       "</tr>\n",
       "<tr>\n",
       "  <th>Date:</th>            <td>Wed, 10 Jun 2020</td> <th>  Deviance:          </th> <td>  414.01</td>\n",
       "</tr>\n",
       "<tr>\n",
       "  <th>Time:</th>                <td>03:23:28</td>     <th>  Pearson chi2:      </th>  <td>  434.</td> \n",
       "</tr>\n",
       "<tr>\n",
       "  <th>No. Iterations:</th>          <td>5</td>        <th>                     </th>     <td> </td>   \n",
       "</tr>\n",
       "<tr>\n",
       "  <th>Covariance Type:</th>     <td>nonrobust</td>    <th>                     </th>     <td> </td>   \n",
       "</tr>\n",
       "</table>\n",
       "<table class=\"simpletable\">\n",
       "<tr>\n",
       "         <td></td>           <th>coef</th>     <th>std err</th>      <th>z</th>      <th>P>|z|</th>  <th>[0.025</th>    <th>0.975]</th>  \n",
       "</tr>\n",
       "<tr>\n",
       "  <th>const</th>          <td>    0.8236</td> <td>    0.127</td> <td>    6.494</td> <td> 0.000</td> <td>    0.575</td> <td>    1.072</td>\n",
       "</tr>\n",
       "<tr>\n",
       "  <th>Married</th>        <td>    0.2745</td> <td>    0.119</td> <td>    2.297</td> <td> 0.022</td> <td>    0.040</td> <td>    0.509</td>\n",
       "</tr>\n",
       "<tr>\n",
       "  <th>Education</th>      <td>    0.0717</td> <td>    0.118</td> <td>    0.607</td> <td> 0.544</td> <td>   -0.160</td> <td>    0.303</td>\n",
       "</tr>\n",
       "<tr>\n",
       "  <th>Credit_History</th> <td>    1.2624</td> <td>    0.155</td> <td>    8.123</td> <td> 0.000</td> <td>    0.958</td> <td>    1.567</td>\n",
       "</tr>\n",
       "</table>"
      ],
      "text/plain": [
       "<class 'statsmodels.iolib.summary.Summary'>\n",
       "\"\"\"\n",
       "                 Generalized Linear Model Regression Results                  \n",
       "==============================================================================\n",
       "Dep. Variable:            Loan_Status   No. Observations:                  429\n",
       "Model:                            GLM   Df Residuals:                      425\n",
       "Model Family:                Binomial   Df Model:                            3\n",
       "Link Function:                  logit   Scale:                          1.0000\n",
       "Method:                          IRLS   Log-Likelihood:                -207.00\n",
       "Date:                Wed, 10 Jun 2020   Deviance:                       414.01\n",
       "Time:                        03:23:28   Pearson chi2:                     434.\n",
       "No. Iterations:                     5                                         \n",
       "Covariance Type:            nonrobust                                         \n",
       "==================================================================================\n",
       "                     coef    std err          z      P>|z|      [0.025      0.975]\n",
       "----------------------------------------------------------------------------------\n",
       "const              0.8236      0.127      6.494      0.000       0.575       1.072\n",
       "Married            0.2745      0.119      2.297      0.022       0.040       0.509\n",
       "Education          0.0717      0.118      0.607      0.544      -0.160       0.303\n",
       "Credit_History     1.2624      0.155      8.123      0.000       0.958       1.567\n",
       "==================================================================================\n",
       "\"\"\""
      ]
     },
     "execution_count": 38,
     "metadata": {},
     "output_type": "execute_result"
    }
   ],
   "source": [
    "import statsmodels.api as sm\n",
    "logm1 = sm.GLM(y_train,(sm.add_constant(X_train)), family = sm.families.Binomial())\n",
    "logm1.fit().summary()"
   ]
  },
  {
   "cell_type": "code",
   "execution_count": 39,
   "metadata": {},
   "outputs": [
    {
     "name": "stdout",
     "output_type": "stream",
     "text": [
      "0.25220020307887475 :Bias error\n",
      "0.0010790040572120805 :Variance error\n"
     ]
    }
   ],
   "source": [
    "auc_be=[]\n",
    "auc_ve=[]\n",
    "log_reg=LogisticRegression()\n",
    "kfold=KFold(shuffle=True,n_splits=3,random_state=0)    #random state can be set here explicitly\n",
    "scores=cross_val_score(log_reg,X_train,y_train,cv=kfold,scoring=\"roc_auc\")\n",
    "auc_be.append(np.mean(1-scores))\n",
    "auc_ve.append(np.var(scores,ddof=1))\n",
    "print(np.min(auc_be), \":Bias error\")\n",
    "print(np.min(auc_ve), \":Variance error\")"
   ]
  },
  {
   "cell_type": "code",
   "execution_count": 40,
   "metadata": {},
   "outputs": [
    {
     "data": {
      "text/plain": [
       "0.8216216216216217"
      ]
     },
     "execution_count": 40,
     "metadata": {},
     "output_type": "execute_result"
    }
   ],
   "source": [
    "model=log_reg.fit(X_train,y_train)\n",
    "predictions_lr=log_reg.predict(X_test)\n",
    "log_reg.score(X_test,y_test)"
   ]
  },
  {
   "cell_type": "markdown",
   "metadata": {},
   "source": [
    "### Naive Bayes:"
   ]
  },
  {
   "cell_type": "code",
   "execution_count": 41,
   "metadata": {},
   "outputs": [
    {
     "name": "stdout",
     "output_type": "stream",
     "text": [
      "0.25915248192872903 :Bias error\n",
      "0.0010771883474161136 :Variance error\n"
     ]
    }
   ],
   "source": [
    "auc_be=[]\n",
    "auc_ve=[]\n",
    "nb=GaussianNB()\n",
    "kfold=KFold(shuffle=True,n_splits=3,random_state=0)    #random state can be set here explicitly\n",
    "scores=cross_val_score(nb,X_train,y_train,cv=kfold,scoring=\"roc_auc\")\n",
    "auc_be.append(np.mean(1-scores))\n",
    "auc_ve.append(np.var(scores,ddof=1))\n",
    "print(np.min(auc_be), \":Bias error\")\n",
    "print(np.min(auc_ve), \":Variance error\")"
   ]
  },
  {
   "cell_type": "code",
   "execution_count": 42,
   "metadata": {},
   "outputs": [
    {
     "data": {
      "text/plain": [
       "0.8162162162162162"
      ]
     },
     "execution_count": 42,
     "metadata": {},
     "output_type": "execute_result"
    }
   ],
   "source": [
    "model=nb.fit(X_train,y_train)\n",
    "predictions_nb=nb.predict(X_test)\n",
    "nb.score(X_test,y_test)"
   ]
  },
  {
   "cell_type": "markdown",
   "metadata": {},
   "source": [
    "### KNN"
   ]
  },
  {
   "cell_type": "code",
   "execution_count": 43,
   "metadata": {},
   "outputs": [
    {
     "name": "stdout",
     "output_type": "stream",
     "text": [
      "0.2517096076002538 58\n",
      "8.095634000366307e-06 67\n"
     ]
    }
   ],
   "source": [
    "auc_be=[]\n",
    "auc_ve=[]\n",
    "for n in np.arange(1,75):\n",
    "    knn=KNeighborsClassifier(n_neighbors=n)\n",
    "    kfold=KFold(shuffle=True,n_splits=3,random_state=0)    #random state can be set here explicitly\n",
    "    scores=cross_val_score(knn,Xs,y,cv=kfold,scoring=\"roc_auc\")\n",
    "    auc_be.append(np.mean(1-scores))\n",
    "    auc_ve.append(np.var(scores,ddof=1))\n",
    "print(np.min(auc_be),np.argmin(auc_be))\n",
    "print(np.min(auc_ve),np.argmin(auc_ve))"
   ]
  },
  {
   "cell_type": "code",
   "execution_count": 44,
   "metadata": {},
   "outputs": [
    {
     "name": "stdout",
     "output_type": "stream",
     "text": [
      "0.2517096076002538 0.00012025316468041747 58\n",
      "0.2581797968790153 8.095634000366307e-06 67\n"
     ]
    }
   ],
   "source": [
    "print(np.min(auc_be),auc_ve[58],np.argmin(auc_be))\n",
    "print(auc_be[67],np.min(auc_ve),np.argmin(auc_ve))"
   ]
  },
  {
   "cell_type": "code",
   "execution_count": 45,
   "metadata": {},
   "outputs": [
    {
     "name": "stdout",
     "output_type": "stream",
     "text": [
      "0.2583695447653375 3.402884314703063e-05\n"
     ]
    }
   ],
   "source": [
    "print(auc_be[56],auc_ve[56])"
   ]
  },
  {
   "cell_type": "code",
   "execution_count": 46,
   "metadata": {},
   "outputs": [
    {
     "data": {
      "image/png": "[encoded data removed]",
      "text/plain": [
       "<Figure size 432x288 with 1 Axes>"
      ]
     },
     "metadata": {
      "needs_background": "light"
     },
     "output_type": "display_data"
    },
    {
     "name": "stdout",
     "output_type": "stream",
     "text": [
      "best n_estimator based on bias error =  59\n"
     ]
    },
    {
     "data": {
      "image/png": "[encoded data removed]",
      "text/plain": [
       "<Figure size 432x288 with 1 Axes>"
      ]
     },
     "metadata": {
      "needs_background": "light"
     },
     "output_type": "display_data"
    },
    {
     "name": "stdout",
     "output_type": "stream",
     "text": [
      "best n_estimator based on variance error =  68\n"
     ]
    }
   ],
   "source": [
    "x_axis=np.arange(1,75)\n",
    "plt.plot(x_axis,auc_be)\n",
    "plt.title('Bias Error')\n",
    "plt.show()\n",
    "print('best n_estimator based on bias error = ',(np.argmin(auc_be)+1))\n",
    "plt.plot(x_axis,auc_ve)\n",
    "plt.title('Varience Error')\n",
    "plt.show()\n",
    "print('best n_estimator based on variance error = ',(np.argmin(auc_ve)+1))"
   ]
  },
  {
   "cell_type": "code",
   "execution_count": 47,
   "metadata": {},
   "outputs": [
    {
     "data": {
      "image/png": "[encoded data removed]",
      "text/plain": [
       "<Figure size 432x288 with 1 Axes>"
      ]
     },
     "metadata": {
      "needs_background": "light"
     },
     "output_type": "display_data"
    }
   ],
   "source": [
    "auc_be_sc=auc_be/np.max(auc_be)\n",
    "auc_ve_sc=auc_ve/np.max(auc_ve)\n",
    "x_axis=np.arange(50,len(auc_be))\n",
    "plt.plot(x_axis,auc_be_sc[50:])\n",
    "plt.plot(x_axis,auc_ve_sc[50:])\n",
    "plt.show()"
   ]
  },
  {
   "cell_type": "markdown",
   "metadata": {},
   "source": [
    "KNN : has very less variance error at 56 index position"
   ]
  },
  {
   "cell_type": "code",
   "execution_count": null,
   "metadata": {},
   "outputs": [],
   "source": []
  },
  {
   "cell_type": "markdown",
   "metadata": {},
   "source": [
    "### Decision tree"
   ]
  },
  {
   "cell_type": "code",
   "execution_count": 48,
   "metadata": {},
   "outputs": [
    {
     "name": "stdout",
     "output_type": "stream",
     "text": [
      "0.25863390267506287 2\n",
      "0.0007509981799009844 5\n"
     ]
    }
   ],
   "source": [
    "auc_be=[]\n",
    "auc_ve=[]\n",
    "for n in np.arange(1,10):\n",
    "    dt=DecisionTreeClassifier(max_depth=n) #gini\n",
    "    kfold=KFold(shuffle=True,n_splits=3,random_state=0)    #random state can be set here explicitly\n",
    "    scores=cross_val_score(dt,Xs,y,cv=kfold,scoring=\"roc_auc\")\n",
    "    auc_be.append(np.mean(1-scores))\n",
    "    auc_ve.append(np.var(scores,ddof=1))\n",
    "print(np.min(auc_be),np.argmin(auc_be))\n",
    "print(np.min(auc_ve),np.argmin(auc_ve))"
   ]
  },
  {
   "cell_type": "code",
   "execution_count": 49,
   "metadata": {},
   "outputs": [
    {
     "name": "stdout",
     "output_type": "stream",
     "text": [
      "0.25863390267506287 0.0007509981799009844 2\n",
      "0.25863390267506287 0.0007509981799009844 5\n"
     ]
    }
   ],
   "source": [
    "print(np.min(auc_be),auc_ve[5],np.argmin(auc_be))\n",
    "print(auc_be[2],np.min(auc_ve),np.argmin(auc_ve))"
   ]
  },
  {
   "cell_type": "code",
   "execution_count": 50,
   "metadata": {},
   "outputs": [
    {
     "name": "stdout",
     "output_type": "stream",
     "text": [
      "0.25863390267506287 2\n",
      "0.0007509981799009844 5\n"
     ]
    }
   ],
   "source": [
    "auc_be=[]\n",
    "auc_ve=[]\n",
    "for n in np.arange(1,10):\n",
    "    dt=DecisionTreeClassifier(max_depth=n,criterion=\"entropy\") #entropy\n",
    "    kfold=KFold(shuffle=True,n_splits=3,random_state=0)    #random state can be set here explicitly\n",
    "    scores=cross_val_score(dt,Xs,y,cv=kfold,scoring=\"roc_auc\")\n",
    "    auc_be.append(np.mean(1-scores))\n",
    "    auc_ve.append(np.var(scores,ddof=1))\n",
    "print(np.min(auc_be),np.argmin(auc_be))\n",
    "print(np.min(auc_ve),np.argmin(auc_ve))"
   ]
  },
  {
   "cell_type": "code",
   "execution_count": 51,
   "metadata": {},
   "outputs": [
    {
     "data": {
      "image/png": "[encoded data removed]",
      "text/plain": [
       "<Figure size 432x288 with 1 Axes>"
      ]
     },
     "metadata": {
      "needs_background": "light"
     },
     "output_type": "display_data"
    },
    {
     "name": "stdout",
     "output_type": "stream",
     "text": [
      "best n_estimator based on bias error =  3\n"
     ]
    },
    {
     "data": {
      "image/png": "[encoded data removed]",
      "text/plain": [
       "<Figure size 432x288 with 1 Axes>"
      ]
     },
     "metadata": {
      "needs_background": "light"
     },
     "output_type": "display_data"
    },
    {
     "name": "stdout",
     "output_type": "stream",
     "text": [
      "best n_estimator based on variance error =  6\n"
     ]
    }
   ],
   "source": [
    "x_axis=np.arange(1,10)\n",
    "plt.plot(x_axis,auc_be)\n",
    "plt.title('Bias Error')\n",
    "plt.show()\n",
    "print('best n_estimator based on bias error = ',(np.argmin(auc_be)+1))\n",
    "plt.plot(x_axis,auc_ve)\n",
    "plt.title('Varience Error')\n",
    "plt.show()\n",
    "print('best n_estimator based on variance error = ',(np.argmin(auc_ve)+1))"
   ]
  },
  {
   "cell_type": "markdown",
   "metadata": {},
   "source": [
    "DT : at depth of 3 both bias and variance error seems to be less"
   ]
  },
  {
   "cell_type": "code",
   "execution_count": null,
   "metadata": {},
   "outputs": [],
   "source": []
  },
  {
   "cell_type": "markdown",
   "metadata": {},
   "source": [
    "## Random Forest:"
   ]
  },
  {
   "cell_type": "code",
   "execution_count": 52,
   "metadata": {},
   "outputs": [
    {
     "name": "stdout",
     "output_type": "stream",
     "text": [
      "0.2557505818717935 24\n",
      "4.362317243724707e-05 5\n"
     ]
    }
   ],
   "source": [
    "auc_be=[]\n",
    "auc_ve=[]\n",
    "for n in np.arange(1,30):\n",
    "    rf=RandomForestClassifier(n_estimators=n,max_depth=10) #gini\n",
    "    kfold=KFold(shuffle=True,n_splits=3,random_state=0)    #random state can be set here explicitly\n",
    "    scores=cross_val_score(rf,Xs,y,cv=kfold,scoring=\"roc_auc\")\n",
    "    auc_be.append(np.mean(1-scores))\n",
    "    auc_ve.append(np.var(scores,ddof=1))\n",
    "print(np.min(auc_be),np.argmin(auc_be))\n",
    "print(np.min(auc_ve),np.argmin(auc_ve))"
   ]
  },
  {
   "cell_type": "code",
   "execution_count": 53,
   "metadata": {},
   "outputs": [
    {
     "data": {
      "image/png": "[encoded data removed]",
      "text/plain": [
       "<Figure size 432x288 with 1 Axes>"
      ]
     },
     "metadata": {
      "needs_background": "light"
     },
     "output_type": "display_data"
    },
    {
     "name": "stdout",
     "output_type": "stream",
     "text": [
      "best n_estimator based on bias error =  25\n"
     ]
    },
    {
     "data": {
      "image/png": "[encoded data removed]",
      "text/plain": [
       "<Figure size 432x288 with 1 Axes>"
      ]
     },
     "metadata": {
      "needs_background": "light"
     },
     "output_type": "display_data"
    },
    {
     "name": "stdout",
     "output_type": "stream",
     "text": [
      "best n_estimator based on variance error =  6\n"
     ]
    }
   ],
   "source": [
    "x_axis=np.arange(1,30)\n",
    "plt.plot(x_axis,auc_be)\n",
    "plt.title('Bias Error')\n",
    "plt.show()\n",
    "print('best n_estimator based on bias error = ',(np.argmin(auc_be)+1))\n",
    "plt.plot(x_axis,auc_ve)\n",
    "plt.title('Varience Error')\n",
    "plt.show()\n",
    "print('best n_estimator based on variance error = ',(np.argmin(auc_ve)+1))"
   ]
  },
  {
   "cell_type": "code",
   "execution_count": 54,
   "metadata": {},
   "outputs": [
    {
     "name": "stdout",
     "output_type": "stream",
     "text": [
      "0.259019932366827 14\n",
      "1.7651047649226833e-06 11\n"
     ]
    }
   ],
   "source": [
    "auc_be=[]\n",
    "auc_ve=[]\n",
    "for n in np.arange(1,30):\n",
    "    rf=RandomForestClassifier(n_estimators=n,max_depth=10,criterion='entropy') #gini\n",
    "    kfold=KFold(shuffle=True,n_splits=3,random_state=0)    #random state can be set here explicitly\n",
    "    scores=cross_val_score(rf,Xs,y,cv=kfold,scoring=\"roc_auc\")\n",
    "    auc_be.append(np.mean(1-scores))\n",
    "    auc_ve.append(np.var(scores,ddof=1))\n",
    "print(np.min(auc_be),np.argmin(auc_be))\n",
    "print(np.min(auc_ve),np.argmin(auc_ve))"
   ]
  },
  {
   "cell_type": "code",
   "execution_count": 55,
   "metadata": {},
   "outputs": [
    {
     "data": {
      "image/png": "[encoded data removed]",
      "text/plain": [
       "<Figure size 432x288 with 1 Axes>"
      ]
     },
     "metadata": {
      "needs_background": "light"
     },
     "output_type": "display_data"
    },
    {
     "name": "stdout",
     "output_type": "stream",
     "text": [
      "best n_estimator based on bias error =  15\n"
     ]
    },
    {
     "data": {
      "image/png": "[encoded data removed]",
      "text/plain": [
       "<Figure size 432x288 with 1 Axes>"
      ]
     },
     "metadata": {
      "needs_background": "light"
     },
     "output_type": "display_data"
    },
    {
     "name": "stdout",
     "output_type": "stream",
     "text": [
      "best n_estimator based on variance error =  12\n"
     ]
    }
   ],
   "source": [
    "x_axis=np.arange(1,30)\n",
    "plt.plot(x_axis,auc_be)\n",
    "plt.title('Bias Error')\n",
    "plt.show()\n",
    "print('best n_estimator based on bias error = ',(np.argmin(auc_be)+1))\n",
    "plt.plot(x_axis,auc_ve)\n",
    "plt.title('Varience Error')\n",
    "plt.show()\n",
    "print('best n_estimator based on variance error = ',(np.argmin(auc_ve)+1))"
   ]
  },
  {
   "cell_type": "code",
   "execution_count": 56,
   "metadata": {},
   "outputs": [
    {
     "name": "stdout",
     "output_type": "stream",
     "text": [
      "0.2487480106731045 0\n",
      "1.6514873964686128e-05 0\n"
     ]
    }
   ],
   "source": [
    "auc_be=[]\n",
    "auc_ve=[]\n",
    "for n in np.arange(1,30):\n",
    "    rf=RandomForestClassifier(n_estimators=15,max_depth=n) #gini\n",
    "    kfold=KFold(shuffle=True,n_splits=3,random_state=0)    #random state can be set here explicitly\n",
    "    scores=cross_val_score(rf,Xs,y,cv=kfold,scoring=\"roc_auc\")\n",
    "    auc_be.append(np.mean(1-scores))\n",
    "    auc_ve.append(np.var(scores,ddof=1))\n",
    "print(np.min(auc_be),np.argmin(auc_be))\n",
    "print(np.min(auc_ve),np.argmin(auc_ve))"
   ]
  },
  {
   "cell_type": "code",
   "execution_count": 57,
   "metadata": {},
   "outputs": [
    {
     "name": "stdout",
     "output_type": "stream",
     "text": [
      "0.2554053616309812 6\n",
      "0.00010590467027272608 19\n"
     ]
    }
   ],
   "source": [
    "auc_be=[]\n",
    "auc_ve=[]\n",
    "for n in np.arange(1,30):\n",
    "    rf=RandomForestClassifier(n_estimators=n) #gini\n",
    "    kfold=KFold(shuffle=True,n_splits=3,random_state=0)    #random state can be set here explicitly\n",
    "    scores=cross_val_score(rf,Xs,y,cv=kfold,scoring=\"roc_auc\")\n",
    "    auc_be.append(np.mean(1-scores))\n",
    "    auc_ve.append(np.var(scores,ddof=1))\n",
    "print(np.min(auc_be),np.argmin(auc_be))\n",
    "print(np.min(auc_ve),np.argmin(auc_ve))"
   ]
  },
  {
   "cell_type": "code",
   "execution_count": null,
   "metadata": {},
   "outputs": [],
   "source": []
  },
  {
   "cell_type": "markdown",
   "metadata": {},
   "source": [
    "##  Gradient Boosting"
   ]
  },
  {
   "cell_type": "code",
   "execution_count": 58,
   "metadata": {},
   "outputs": [
    {
     "name": "stdout",
     "output_type": "stream",
     "text": [
      "0.2569993804300125 4\n",
      "0.0003722187231392775 8\n"
     ]
    }
   ],
   "source": [
    "auc_be=[]\n",
    "auc_ve=[]\n",
    "for val in np.arange(1,20):\n",
    "    grad_boost=GradientBoostingClassifier(n_estimators=val,random_state=0)\n",
    "    kfold = KFold(shuffle=True,n_splits=3,random_state=0)\n",
    "    scores = cross_val_score(grad_boost, Xs, y,cv=kfold, scoring='roc_auc')\n",
    "    auc_be.append(np.mean(1-scores))\n",
    "    auc_ve.append(np.var(scores,ddof=1))\n",
    "print(np.min(auc_be),np.argmin(auc_be))\n",
    "print(np.min(auc_ve),np.argmin(auc_ve))"
   ]
  },
  {
   "cell_type": "code",
   "execution_count": 59,
   "metadata": {},
   "outputs": [
    {
     "name": "stdout",
     "output_type": "stream",
     "text": [
      "0.2569993804300125 0.0006971297477231154 4\n",
      "0.2569993804300125 0.0003722187231392775 8\n"
     ]
    }
   ],
   "source": [
    "print(np.min(auc_be),auc_ve[4],np.argmin(auc_be))\n",
    "print(auc_be[4],np.min(auc_ve),np.argmin(auc_ve))"
   ]
  },
  {
   "cell_type": "code",
   "execution_count": 60,
   "metadata": {},
   "outputs": [
    {
     "data": {
      "image/png": "[encoded data removed]",
      "text/plain": [
       "<Figure size 432x288 with 1 Axes>"
      ]
     },
     "metadata": {
      "needs_background": "light"
     },
     "output_type": "display_data"
    },
    {
     "name": "stdout",
     "output_type": "stream",
     "text": [
      "best n_estimator based on bias error =  5\n"
     ]
    },
    {
     "data": {
      "image/png": "[encoded data removed]",
      "text/plain": [
       "<Figure size 432x288 with 1 Axes>"
      ]
     },
     "metadata": {
      "needs_background": "light"
     },
     "output_type": "display_data"
    },
    {
     "name": "stdout",
     "output_type": "stream",
     "text": [
      "best n_estimator based on variance error =  9\n"
     ]
    }
   ],
   "source": [
    "x_axis=np.arange(1,20)\n",
    "plt.plot(x_axis,auc_be)\n",
    "plt.title('Bias Error')\n",
    "plt.show()\n",
    "print('best n_estimator based on bias error = ',(np.argmin(auc_be)+1))\n",
    "plt.plot(x_axis,auc_ve)\n",
    "plt.title('Varience Error')\n",
    "plt.show()\n",
    "print('best n_estimator based on variance error = ',(np.argmin(auc_ve)+1))"
   ]
  },
  {
   "cell_type": "markdown",
   "metadata": {},
   "source": [
    "## Ada boosting"
   ]
  },
  {
   "cell_type": "code",
   "execution_count": 61,
   "metadata": {},
   "outputs": [
    {
     "name": "stdout",
     "output_type": "stream",
     "text": [
      "0.24883303783684574 17\n",
      "0.0005304949064125985 17\n"
     ]
    }
   ],
   "source": [
    "auc_be=[]\n",
    "auc_ve=[]\n",
    "for val in np.arange(1,20):\n",
    "    ada_boost=AdaBoostClassifier(n_estimators=val,base_estimator=log_reg,random_state=0)\n",
    "    kfold = KFold(shuffle=True,n_splits=3,random_state=0)\n",
    "    scores = cross_val_score(ada_boost, Xs, y,cv=kfold, scoring='roc_auc')\n",
    "    auc_be.append(np.mean(1-scores))\n",
    "    auc_ve.append(np.var(scores,ddof=1))\n",
    "print(np.min(auc_be),np.argmin(auc_be))\n",
    "print(np.min(auc_ve),np.argmin(auc_ve))"
   ]
  },
  {
   "cell_type": "code",
   "execution_count": 62,
   "metadata": {},
   "outputs": [
    {
     "data": {
      "image/png": "[encoded data removed]",
      "text/plain": [
       "<Figure size 432x288 with 1 Axes>"
      ]
     },
     "metadata": {
      "needs_background": "light"
     },
     "output_type": "display_data"
    },
    {
     "name": "stdout",
     "output_type": "stream",
     "text": [
      "best n_estimator based on bias error =  18\n"
     ]
    },
    {
     "data": {
      "image/png": "[encoded data removed]",
      "text/plain": [
       "<Figure size 432x288 with 1 Axes>"
      ]
     },
     "metadata": {
      "needs_background": "light"
     },
     "output_type": "display_data"
    },
    {
     "name": "stdout",
     "output_type": "stream",
     "text": [
      "best n_estimator based on variance error =  18\n"
     ]
    }
   ],
   "source": [
    "x_axis=np.arange(1,20)\n",
    "plt.plot(x_axis,auc_be)\n",
    "plt.title('Bias Error')\n",
    "plt.show()\n",
    "print('best n_estimator based on bias error = ',(np.argmin(auc_be)+1))\n",
    "plt.plot(x_axis,auc_ve)\n",
    "plt.title('Varience Error')\n",
    "plt.show()\n",
    "print('best n_estimator based on variance error = ',(np.argmin(auc_ve)+1))"
   ]
  },
  {
   "cell_type": "raw",
   "metadata": {},
   "source": [
    "adaboost : with logistic regression, 18 estimators, bias error is at its least"
   ]
  },
  {
   "cell_type": "markdown",
   "metadata": {},
   "source": [
    "## Bagging:"
   ]
  },
  {
   "cell_type": "code",
   "execution_count": 63,
   "metadata": {},
   "outputs": [
    {
     "name": "stdout",
     "output_type": "stream",
     "text": [
      "0.2557929650446655 0\n",
      "0.00028324998379264756 12\n"
     ]
    }
   ],
   "source": [
    "clf1=KNeighborsClassifier(n_neighbors=56)\n",
    "auc_be=[]\n",
    "auc_ve=[]\n",
    "for val in np.arange(1,20):\n",
    "    bagging=BaggingClassifier(n_estimators=val,base_estimator=clf1,random_state=0)\n",
    "    kfold = KFold(shuffle=True,n_splits=3,random_state=0)\n",
    "    scores = cross_val_score(bagging, Xs, y,cv=kfold, scoring='roc_auc')\n",
    "    auc_be.append(np.mean(1-scores))\n",
    "    auc_ve.append(np.var(scores,ddof=1))\n",
    "print(np.min(auc_be),np.argmin(auc_be))\n",
    "print(np.min(auc_ve),np.argmin(auc_ve))"
   ]
  },
  {
   "cell_type": "markdown",
   "metadata": {},
   "source": [
    "#########################################################################################################################"
   ]
  },
  {
   "cell_type": "markdown",
   "metadata": {},
   "source": [
    "### Choosing the top 2 model:"
   ]
  },
  {
   "cell_type": "code",
   "execution_count": 64,
   "metadata": {},
   "outputs": [
    {
     "data": {
      "text/plain": [
       "0.8216216216216217"
      ]
     },
     "execution_count": 64,
     "metadata": {},
     "output_type": "execute_result"
    }
   ],
   "source": [
    "#knn with 56 neighbors gives the lowest variance error\n",
    "knn=KNeighborsClassifier(n_neighbors=56)\n",
    "knn.fit(X_train,y_train)\n",
    "predict_knn=knn.predict(X_test)\n",
    "knn.score(X_test,y_test)"
   ]
  },
  {
   "cell_type": "code",
   "execution_count": 65,
   "metadata": {},
   "outputs": [
    {
     "name": "stdout",
     "output_type": "stream",
     "text": [
      "              precision    recall  f1-score   support\n",
      "\n",
      "         0.0       0.93      0.47      0.62        58\n",
      "         1.0       0.80      0.98      0.88       127\n",
      "\n",
      "    accuracy                           0.82       185\n",
      "   macro avg       0.87      0.72      0.75       185\n",
      "weighted avg       0.84      0.82      0.80       185\n",
      "\n"
     ]
    }
   ],
   "source": [
    "print(classification_report(y_test,predict_knn))"
   ]
  },
  {
   "cell_type": "code",
   "execution_count": 66,
   "metadata": {},
   "outputs": [
    {
     "name": "stdout",
     "output_type": "stream",
     "text": [
      "Confusion matrix values\n",
      "[[ 27  31]\n",
      " [  2 125]]\n"
     ]
    },
    {
     "data": {
      "image/png": "[encoded data removed]",
      "text/plain": [
       "<Figure size 360x216 with 2 Axes>"
      ]
     },
     "metadata": {
      "needs_background": "light"
     },
     "output_type": "display_data"
    }
   ],
   "source": [
    "from sklearn.metrics import confusion_matrix\n",
    "cm=confusion_matrix(y_test,predict_knn)\n",
    "print(\"Confusion matrix values\")\n",
    "print(cm)\n",
    "conf_matrix=pd.DataFrame(data=cm,columns=['Predicted:0','Predicted:1'],index=['Actual:0','Actual:1'])\n",
    "plt.figure(figsize = (5,3))\n",
    "sns.heatmap(conf_matrix, annot=True,cmap=\"YlGnBu\")\n",
    "plt.show()"
   ]
  },
  {
   "cell_type": "code",
   "execution_count": 67,
   "metadata": {},
   "outputs": [
    {
     "name": "stdout",
     "output_type": "stream",
     "text": [
      "Accuracy : 0.8216216216216217\n",
      "Misclassification: 0.17837837837837833\n",
      "Sensitivity or True positive rate: 0.984251968503937\n",
      "Specificity or True negative rate: 0.46551724137931033\n"
     ]
    }
   ],
   "source": [
    "TN=cm[0,0]\n",
    "TP=cm[1,1]\n",
    "FN=cm[1,0]\n",
    "FP=cm[0,1]\n",
    "sensitivity=TP/float(TP+FN)\n",
    "specificity=TN/float(TN+FP)\n",
    "accuracy=(TP+TN)/(TP+TN+FP+FN)\n",
    "misclassification=1-accuracy\n",
    "print(\"Accuracy :\",accuracy)\n",
    "print(\"Misclassification:\",misclassification)\n",
    "print(\"Sensitivity or True positive rate:\",sensitivity)\n",
    "print(\"Specificity or True negative rate:\",specificity)"
   ]
  },
  {
   "cell_type": "code",
   "execution_count": 68,
   "metadata": {},
   "outputs": [
    {
     "name": "stdout",
     "output_type": "stream",
     "text": [
      "True positives: 125\n",
      "True negatives: 27\n",
      "Correct predictions: 152\n",
      "False positives: 31  Type I error\n",
      "False negatives: 2  Type II error\n"
     ]
    }
   ],
   "source": [
    "print(\"True positives:\",TP)\n",
    "print(\"True negatives:\",TN)\n",
    "print(\"Correct predictions:\",TP+TN)\n",
    "print(\"False positives:\",FP,\" Type I error\")\n",
    "print(\"False negatives:\",FN,\" Type II error\")"
   ]
  },
  {
   "cell_type": "code",
   "execution_count": 69,
   "metadata": {},
   "outputs": [],
   "source": [
    "y_pred_proba=knn.predict_proba(X_test)"
   ]
  },
  {
   "cell_type": "code",
   "execution_count": 70,
   "metadata": {},
   "outputs": [
    {
     "data": {
      "image/png": "[encoded data removed]",
      "text/plain": [
       "<Figure size 432x288 with 1 Axes>"
      ]
     },
     "metadata": {
      "needs_background": "light"
     },
     "output_type": "display_data"
    }
   ],
   "source": [
    "from sklearn.metrics import roc_curve\n",
    "fpr, tpr, thresholds = roc_curve(y_test, y_pred_proba[:,1])\n",
    "plt.plot(fpr,tpr)\n",
    "plt.xlim([0.0, 1.0])\n",
    "plt.ylim([0.0, 1.0])\n",
    "plt.title('ROC curve for Heart disease classifier')\n",
    "plt.xlabel('False positive rate (1-Specificity)')\n",
    "plt.ylabel('True positive rate (Sensitivity)')\n",
    "plt.grid(True)"
   ]
  },
  {
   "cell_type": "code",
   "execution_count": 71,
   "metadata": {},
   "outputs": [
    {
     "data": {
      "text/plain": [
       "0.7612679880532175"
      ]
     },
     "execution_count": 71,
     "metadata": {},
     "output_type": "execute_result"
    }
   ],
   "source": [
    "roc_auc_score(y_test,y_pred_proba[:,1])"
   ]
  },
  {
   "cell_type": "markdown",
   "metadata": {},
   "source": [
    "---------------------------------------------------------------------------------------------------------"
   ]
  },
  {
   "cell_type": "code",
   "execution_count": 72,
   "metadata": {},
   "outputs": [
    {
     "data": {
      "text/plain": [
       "0.8216216216216217"
      ]
     },
     "execution_count": 72,
     "metadata": {},
     "output_type": "execute_result"
    }
   ],
   "source": [
    "ada_boost=AdaBoostClassifier(n_estimators=18,base_estimator=log_reg,random_state=0)\n",
    "ada_boost.fit(X_train,y_train)\n",
    "predict_ada=ada_boost.predict(X_test)\n",
    "ada_boost.score(X_test,y_test)"
   ]
  },
  {
   "cell_type": "code",
   "execution_count": 73,
   "metadata": {},
   "outputs": [
    {
     "name": "stdout",
     "output_type": "stream",
     "text": [
      "              precision    recall  f1-score   support\n",
      "\n",
      "         0.0       0.93      0.47      0.62        58\n",
      "         1.0       0.80      0.98      0.88       127\n",
      "\n",
      "    accuracy                           0.82       185\n",
      "   macro avg       0.87      0.72      0.75       185\n",
      "weighted avg       0.84      0.82      0.80       185\n",
      "\n"
     ]
    }
   ],
   "source": [
    "print(classification_report(y_test,predict_ada))"
   ]
  },
  {
   "cell_type": "code",
   "execution_count": 74,
   "metadata": {},
   "outputs": [
    {
     "name": "stdout",
     "output_type": "stream",
     "text": [
      "Confusion matrix values\n",
      "[[ 27  31]\n",
      " [  2 125]]\n"
     ]
    },
    {
     "data": {
      "image/png": "[encoded data removed]",
      "text/plain": [
       "<Figure size 360x216 with 2 Axes>"
      ]
     },
     "metadata": {
      "needs_background": "light"
     },
     "output_type": "display_data"
    }
   ],
   "source": [
    "from sklearn.metrics import confusion_matrix\n",
    "cm=confusion_matrix(y_test,predict_ada)\n",
    "print(\"Confusion matrix values\")\n",
    "print(cm)\n",
    "conf_matrix=pd.DataFrame(data=cm,columns=['Predicted:0','Predicted:1'],index=['Actual:0','Actual:1'])\n",
    "plt.figure(figsize = (5,3))\n",
    "sns.heatmap(conf_matrix, annot=True,cmap=\"YlGnBu\")\n",
    "plt.show()"
   ]
  },
  {
   "cell_type": "code",
   "execution_count": 78,
   "metadata": {},
   "outputs": [
    {
     "data": {
      "image/png": "[encoded data removed]",
      "text/plain": [
       "<Figure size 432x288 with 1 Axes>"
      ]
     },
     "metadata": {
      "needs_background": "light"
     },
     "output_type": "display_data"
    }
   ],
   "source": [
    "y_pred_proba=knn.predict_proba(X_test)\n",
    "from sklearn.metrics import roc_curve\n",
    "fpr, tpr, thresholds = roc_curve(y_test, y_pred_proba[:,1])\n",
    "plt.plot(fpr,tpr)\n",
    "plt.xlim([0.0, 1.0])\n",
    "plt.ylim([0.0, 1.0])\n",
    "plt.title('ROC curve for Heart disease classifier')\n",
    "plt.xlabel('False positive rate (1-Specificity)')\n",
    "plt.ylabel('True positive rate (Sensitivity)')\n",
    "plt.grid(True)"
   ]
  },
  {
   "cell_type": "code",
   "execution_count": 79,
   "metadata": {},
   "outputs": [
    {
     "data": {
      "text/plain": [
       "0.7612679880532175"
      ]
     },
     "execution_count": 79,
     "metadata": {},
     "output_type": "execute_result"
    }
   ],
   "source": [
    "roc_auc_score(y_test,y_pred_proba[:,1])"
   ]
  },
  {
   "cell_type": "code",
   "execution_count": null,
   "metadata": {},
   "outputs": [],
   "source": []
  }
 ],
 "metadata": {
  "kernelspec": {
   "display_name": "Python 3",
   "language": "python",
   "name": "python3"
  },
  "language_info": {
   "codemirror_mode": {
    "name": "ipython",
    "version": 3
   },
   "file_extension": ".py",
   "mimetype": "text/x-python",
   "name": "python",
   "nbconvert_exporter": "python",
   "pygments_lexer": "ipython3",
   "version": "3.7.4"
  }
 },
 "nbformat": 4,
 "nbformat_minor": 2
}
